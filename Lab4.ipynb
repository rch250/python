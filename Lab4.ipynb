{
 "cells": [
  {
   "cell_type": "markdown",
   "id": "73a96330-1e7f-4aaa-9660-7b818bea0154",
   "metadata": {},
   "source": [
    "## IMPORTS"
   ]
  },
  {
   "cell_type": "code",
   "execution_count": null,
   "id": "0d0ad825-e5ac-42b2-a804-22208efdcd0b",
   "metadata": {},
   "outputs": [],
   "source": [
    "import pyodbc\n",
    "import pandas as pd\n",
    "import matplotlib.pyplot as plt\n",
    "import seaborn as sns\n",
    "import numpy as np"
   ]
  },
  {
   "cell_type": "markdown",
   "id": "340f148a-df24-40ad-87a1-b06028b107df",
   "metadata": {},
   "source": [
    "## From an MS SQL Server Database\n",
    "### Open a database connection"
   ]
  },
  {
   "cell_type": "code",
   "execution_count": null,
   "id": "1ad55d7d-72b4-4457-96cb-1d307286bdd9",
   "metadata": {},
   "outputs": [],
   "source": [
    "connection = pyodbc.connect(\n",
    "    server = \"cisdbss.pcc.edu\",\n",
    "    user = \"275student\",\n",
    "    password = \"275student\",\n",
    "    database = \"NAMES\",\n",
    "    driver = \"{ODBC Driver 17 for SQL Server}\"\n",
    ")\n",
    "\n",
    "connection"
   ]
  },
  {
   "cell_type": "markdown",
   "id": "9900e503-c1b5-4ece-b396-cd9d8f717b60",
   "metadata": {},
   "source": [
    "### Make the Data Frame"
   ]
  },
  {
   "cell_type": "code",
   "execution_count": null,
   "id": "fb82d22a-9d50-4862-a05f-fa056132f7f5",
   "metadata": {},
   "outputs": [],
   "source": [
    "df = pd.read_sql_query(\"\"\"\n",
    "SELECT Name, Year, NameCount\n",
    "FROM all_data\n",
    "WHERE Name = 'Marc'\n",
    "ORDER BY Year;\n",
    "\"\"\", connection)\n",
    "\n",
    "df"
   ]
  },
  {
   "cell_type": "markdown",
   "id": "6903296a-50fa-49af-95ac-98edcb7814c2",
   "metadata": {},
   "source": [
    "### Read CSV Files"
   ]
  },
  {
   "cell_type": "code",
   "execution_count": 1,
   "id": "d1e8241f-4d39-4955-a5b4-55c4486ab0c1",
   "metadata": {},
   "outputs": [
    {
     "ename": "NameError",
     "evalue": "name 'pd' is not defined",
     "output_type": "error",
     "traceback": [
      "\u001b[1;31m---------------------------------------------------------------------------\u001b[0m",
      "\u001b[1;31mNameError\u001b[0m                                 Traceback (most recent call last)",
      "\u001b[1;32m~\\AppData\\Local\\Temp/ipykernel_4380/153993839.py\u001b[0m in \u001b[0;36m<module>\u001b[1;34m\u001b[0m\n\u001b[1;32m----> 1\u001b[1;33m \u001b[0mdf\u001b[0m \u001b[1;33m=\u001b[0m \u001b[0mpd\u001b[0m\u001b[1;33m.\u001b[0m\u001b[0mread_csv\u001b[0m\u001b[1;33m(\u001b[0m\u001b[1;34m\"Amazon_Best_Seller_2021_June.csv\"\u001b[0m\u001b[1;33m)\u001b[0m\u001b[1;33m\u001b[0m\u001b[1;33m\u001b[0m\u001b[0m\n\u001b[0m\u001b[0;32m      2\u001b[0m \u001b[0mdf\u001b[0m\u001b[1;33m\u001b[0m\u001b[1;33m\u001b[0m\u001b[0m\n",
      "\u001b[1;31mNameError\u001b[0m: name 'pd' is not defined"
     ]
    }
   ],
   "source": [
    "df = pd.read_csv(\"Amazon_Best_Seller_2021_June.csv\")\n",
    "df"
   ]
  }
 ],
 "metadata": {
  "kernelspec": {
   "display_name": "Python 3 (ipykernel)",
   "language": "python",
   "name": "python3"
  },
  "language_info": {
   "codemirror_mode": {
    "name": "ipython",
    "version": 3
   },
   "file_extension": ".py",
   "mimetype": "text/x-python",
   "name": "python",
   "nbconvert_exporter": "python",
   "pygments_lexer": "ipython3",
   "version": "3.8.11"
  }
 },
 "nbformat": 4,
 "nbformat_minor": 5
}
